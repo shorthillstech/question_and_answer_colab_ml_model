{
  "nbformat": 4,
  "nbformat_minor": 0,
  "metadata": {
    "colab": {
      "name": "Q&A_API.ipynb",
      "provenance": []
    },
    "kernelspec": {
      "name": "python3",
      "display_name": "Python 3"
    },
    "language_info": {
      "name": "python"
    }
  },
  "cells": [
    {
      "cell_type": "code",
      "execution_count": null,
      "metadata": {
        "colab": {
          "base_uri": "https://localhost:8080/"
        },
        "id": "TgLUVTIXaJhb",
        "outputId": "c0d81c89-dc30-4bbf-cce5-457a5a69ef32"
      },
      "outputs": [
        {
          "output_type": "stream",
          "name": "stdout",
          "text": [
            "Collecting pyngrok\n",
            "  Downloading pyngrok-5.1.0.tar.gz (745 kB)\n",
            "\u001b[?25l\r\u001b[K     |▍                               | 10 kB 15.0 MB/s eta 0:00:01\r\u001b[K     |▉                               | 20 kB 20.4 MB/s eta 0:00:01\r\u001b[K     |█▎                              | 30 kB 21.1 MB/s eta 0:00:01\r\u001b[K     |█▊                              | 40 kB 17.4 MB/s eta 0:00:01\r\u001b[K     |██▏                             | 51 kB 8.4 MB/s eta 0:00:01\r\u001b[K     |██▋                             | 61 kB 7.0 MB/s eta 0:00:01\r\u001b[K     |███                             | 71 kB 7.9 MB/s eta 0:00:01\r\u001b[K     |███▌                            | 81 kB 8.6 MB/s eta 0:00:01\r\u001b[K     |████                            | 92 kB 9.4 MB/s eta 0:00:01\r\u001b[K     |████▍                           | 102 kB 7.7 MB/s eta 0:00:01\r\u001b[K     |████▉                           | 112 kB 7.7 MB/s eta 0:00:01\r\u001b[K     |█████▎                          | 122 kB 7.7 MB/s eta 0:00:01\r\u001b[K     |█████▊                          | 133 kB 7.7 MB/s eta 0:00:01\r\u001b[K     |██████▏                         | 143 kB 7.7 MB/s eta 0:00:01\r\u001b[K     |██████▋                         | 153 kB 7.7 MB/s eta 0:00:01\r\u001b[K     |███████                         | 163 kB 7.7 MB/s eta 0:00:01\r\u001b[K     |███████▌                        | 174 kB 7.7 MB/s eta 0:00:01\r\u001b[K     |████████                        | 184 kB 7.7 MB/s eta 0:00:01\r\u001b[K     |████████▍                       | 194 kB 7.7 MB/s eta 0:00:01\r\u001b[K     |████████▉                       | 204 kB 7.7 MB/s eta 0:00:01\r\u001b[K     |█████████▎                      | 215 kB 7.7 MB/s eta 0:00:01\r\u001b[K     |█████████▊                      | 225 kB 7.7 MB/s eta 0:00:01\r\u001b[K     |██████████▏                     | 235 kB 7.7 MB/s eta 0:00:01\r\u001b[K     |██████████▌                     | 245 kB 7.7 MB/s eta 0:00:01\r\u001b[K     |███████████                     | 256 kB 7.7 MB/s eta 0:00:01\r\u001b[K     |███████████▍                    | 266 kB 7.7 MB/s eta 0:00:01\r\u001b[K     |███████████▉                    | 276 kB 7.7 MB/s eta 0:00:01\r\u001b[K     |████████████▎                   | 286 kB 7.7 MB/s eta 0:00:01\r\u001b[K     |████████████▊                   | 296 kB 7.7 MB/s eta 0:00:01\r\u001b[K     |█████████████▏                  | 307 kB 7.7 MB/s eta 0:00:01\r\u001b[K     |█████████████▋                  | 317 kB 7.7 MB/s eta 0:00:01\r\u001b[K     |██████████████                  | 327 kB 7.7 MB/s eta 0:00:01\r\u001b[K     |██████████████▌                 | 337 kB 7.7 MB/s eta 0:00:01\r\u001b[K     |███████████████                 | 348 kB 7.7 MB/s eta 0:00:01\r\u001b[K     |███████████████▍                | 358 kB 7.7 MB/s eta 0:00:01\r\u001b[K     |███████████████▉                | 368 kB 7.7 MB/s eta 0:00:01\r\u001b[K     |████████████████▎               | 378 kB 7.7 MB/s eta 0:00:01\r\u001b[K     |████████████████▊               | 389 kB 7.7 MB/s eta 0:00:01\r\u001b[K     |█████████████████▏              | 399 kB 7.7 MB/s eta 0:00:01\r\u001b[K     |█████████████████▋              | 409 kB 7.7 MB/s eta 0:00:01\r\u001b[K     |██████████████████              | 419 kB 7.7 MB/s eta 0:00:01\r\u001b[K     |██████████████████▌             | 430 kB 7.7 MB/s eta 0:00:01\r\u001b[K     |███████████████████             | 440 kB 7.7 MB/s eta 0:00:01\r\u001b[K     |███████████████████▍            | 450 kB 7.7 MB/s eta 0:00:01\r\u001b[K     |███████████████████▉            | 460 kB 7.7 MB/s eta 0:00:01\r\u001b[K     |████████████████████▎           | 471 kB 7.7 MB/s eta 0:00:01\r\u001b[K     |████████████████████▋           | 481 kB 7.7 MB/s eta 0:00:01\r\u001b[K     |█████████████████████           | 491 kB 7.7 MB/s eta 0:00:01\r\u001b[K     |█████████████████████▌          | 501 kB 7.7 MB/s eta 0:00:01\r\u001b[K     |██████████████████████          | 512 kB 7.7 MB/s eta 0:00:01\r\u001b[K     |██████████████████████▍         | 522 kB 7.7 MB/s eta 0:00:01\r\u001b[K     |██████████████████████▉         | 532 kB 7.7 MB/s eta 0:00:01\r\u001b[K     |███████████████████████▎        | 542 kB 7.7 MB/s eta 0:00:01\r\u001b[K     |███████████████████████▊        | 552 kB 7.7 MB/s eta 0:00:01\r\u001b[K     |████████████████████████▏       | 563 kB 7.7 MB/s eta 0:00:01\r\u001b[K     |████████████████████████▋       | 573 kB 7.7 MB/s eta 0:00:01\r\u001b[K     |█████████████████████████       | 583 kB 7.7 MB/s eta 0:00:01\r\u001b[K     |█████████████████████████▌      | 593 kB 7.7 MB/s eta 0:00:01\r\u001b[K     |██████████████████████████      | 604 kB 7.7 MB/s eta 0:00:01\r\u001b[K     |██████████████████████████▍     | 614 kB 7.7 MB/s eta 0:00:01\r\u001b[K     |██████████████████████████▉     | 624 kB 7.7 MB/s eta 0:00:01\r\u001b[K     |███████████████████████████▎    | 634 kB 7.7 MB/s eta 0:00:01\r\u001b[K     |███████████████████████████▊    | 645 kB 7.7 MB/s eta 0:00:01\r\u001b[K     |████████████████████████████▏   | 655 kB 7.7 MB/s eta 0:00:01\r\u001b[K     |████████████████████████████▋   | 665 kB 7.7 MB/s eta 0:00:01\r\u001b[K     |█████████████████████████████   | 675 kB 7.7 MB/s eta 0:00:01\r\u001b[K     |█████████████████████████████▌  | 686 kB 7.7 MB/s eta 0:00:01\r\u001b[K     |██████████████████████████████  | 696 kB 7.7 MB/s eta 0:00:01\r\u001b[K     |██████████████████████████████▍ | 706 kB 7.7 MB/s eta 0:00:01\r\u001b[K     |██████████████████████████████▊ | 716 kB 7.7 MB/s eta 0:00:01\r\u001b[K     |███████████████████████████████▏| 727 kB 7.7 MB/s eta 0:00:01\r\u001b[K     |███████████████████████████████▋| 737 kB 7.7 MB/s eta 0:00:01\r\u001b[K     |████████████████████████████████| 745 kB 7.7 MB/s \n",
            "\u001b[?25hRequirement already satisfied: PyYAML in /usr/local/lib/python3.7/dist-packages (from pyngrok) (3.13)\n",
            "Building wheels for collected packages: pyngrok\n",
            "  Building wheel for pyngrok (setup.py) ... \u001b[?25l\u001b[?25hdone\n",
            "  Created wheel for pyngrok: filename=pyngrok-5.1.0-py3-none-any.whl size=19006 sha256=f8709fa63ddb21a2ba8acef227a1d35875b7982c6d6e24b601ebce493887feb4\n",
            "  Stored in directory: /root/.cache/pip/wheels/bf/e6/af/ccf6598ecefecd44104069371795cb9b3afbcd16987f6ccfb3\n",
            "Successfully built pyngrok\n",
            "Installing collected packages: pyngrok\n",
            "Successfully installed pyngrok-5.1.0\n",
            "Collecting transformers\n",
            "  Downloading transformers-4.14.1-py3-none-any.whl (3.4 MB)\n",
            "\u001b[K     |████████████████████████████████| 3.4 MB 7.2 MB/s \n",
            "\u001b[?25hCollecting pyyaml>=5.1\n",
            "  Downloading PyYAML-6.0-cp37-cp37m-manylinux_2_5_x86_64.manylinux1_x86_64.manylinux_2_12_x86_64.manylinux2010_x86_64.whl (596 kB)\n",
            "\u001b[K     |████████████████████████████████| 596 kB 67.7 MB/s \n",
            "\u001b[?25hRequirement already satisfied: filelock in /usr/local/lib/python3.7/dist-packages (from transformers) (3.4.0)\n",
            "Collecting tokenizers<0.11,>=0.10.1\n",
            "  Downloading tokenizers-0.10.3-cp37-cp37m-manylinux_2_5_x86_64.manylinux1_x86_64.manylinux_2_12_x86_64.manylinux2010_x86_64.whl (3.3 MB)\n",
            "\u001b[K     |████████████████████████████████| 3.3 MB 45.3 MB/s \n",
            "\u001b[?25hCollecting sacremoses\n",
            "  Downloading sacremoses-0.0.46-py3-none-any.whl (895 kB)\n",
            "\u001b[K     |████████████████████████████████| 895 kB 49.6 MB/s \n",
            "\u001b[?25hCollecting huggingface-hub<1.0,>=0.1.0\n",
            "  Downloading huggingface_hub-0.2.1-py3-none-any.whl (61 kB)\n",
            "\u001b[K     |████████████████████████████████| 61 kB 587 kB/s \n",
            "\u001b[?25hRequirement already satisfied: packaging>=20.0 in /usr/local/lib/python3.7/dist-packages (from transformers) (21.3)\n",
            "Requirement already satisfied: requests in /usr/local/lib/python3.7/dist-packages (from transformers) (2.23.0)\n",
            "Requirement already satisfied: tqdm>=4.27 in /usr/local/lib/python3.7/dist-packages (from transformers) (4.62.3)\n",
            "Requirement already satisfied: regex!=2019.12.17 in /usr/local/lib/python3.7/dist-packages (from transformers) (2019.12.20)\n",
            "Requirement already satisfied: numpy>=1.17 in /usr/local/lib/python3.7/dist-packages (from transformers) (1.19.5)\n",
            "Requirement already satisfied: importlib-metadata in /usr/local/lib/python3.7/dist-packages (from transformers) (4.8.2)\n",
            "Requirement already satisfied: typing-extensions>=3.7.4.3 in /usr/local/lib/python3.7/dist-packages (from huggingface-hub<1.0,>=0.1.0->transformers) (3.10.0.2)\n",
            "Requirement already satisfied: pyparsing!=3.0.5,>=2.0.2 in /usr/local/lib/python3.7/dist-packages (from packaging>=20.0->transformers) (3.0.6)\n",
            "Requirement already satisfied: zipp>=0.5 in /usr/local/lib/python3.7/dist-packages (from importlib-metadata->transformers) (3.6.0)\n",
            "Requirement already satisfied: urllib3!=1.25.0,!=1.25.1,<1.26,>=1.21.1 in /usr/local/lib/python3.7/dist-packages (from requests->transformers) (1.24.3)\n",
            "Requirement already satisfied: idna<3,>=2.5 in /usr/local/lib/python3.7/dist-packages (from requests->transformers) (2.10)\n",
            "Requirement already satisfied: certifi>=2017.4.17 in /usr/local/lib/python3.7/dist-packages (from requests->transformers) (2021.10.8)\n",
            "Requirement already satisfied: chardet<4,>=3.0.2 in /usr/local/lib/python3.7/dist-packages (from requests->transformers) (3.0.4)\n",
            "Requirement already satisfied: joblib in /usr/local/lib/python3.7/dist-packages (from sacremoses->transformers) (1.1.0)\n",
            "Requirement already satisfied: six in /usr/local/lib/python3.7/dist-packages (from sacremoses->transformers) (1.15.0)\n",
            "Requirement already satisfied: click in /usr/local/lib/python3.7/dist-packages (from sacremoses->transformers) (7.1.2)\n",
            "Installing collected packages: pyyaml, tokenizers, sacremoses, huggingface-hub, transformers\n",
            "  Attempting uninstall: pyyaml\n",
            "    Found existing installation: PyYAML 3.13\n",
            "    Uninstalling PyYAML-3.13:\n",
            "      Successfully uninstalled PyYAML-3.13\n",
            "Successfully installed huggingface-hub-0.2.1 pyyaml-6.0 sacremoses-0.0.46 tokenizers-0.10.3 transformers-4.14.1\n",
            "Collecting flask-cors\n",
            "  Downloading Flask_Cors-3.0.10-py2.py3-none-any.whl (14 kB)\n",
            "Requirement already satisfied: Six in /usr/local/lib/python3.7/dist-packages (from flask-cors) (1.15.0)\n",
            "Requirement already satisfied: Flask>=0.9 in /usr/local/lib/python3.7/dist-packages (from flask-cors) (1.1.4)\n",
            "Requirement already satisfied: Jinja2<3.0,>=2.10.1 in /usr/local/lib/python3.7/dist-packages (from Flask>=0.9->flask-cors) (2.11.3)\n",
            "Requirement already satisfied: itsdangerous<2.0,>=0.24 in /usr/local/lib/python3.7/dist-packages (from Flask>=0.9->flask-cors) (1.1.0)\n",
            "Requirement already satisfied: Werkzeug<2.0,>=0.15 in /usr/local/lib/python3.7/dist-packages (from Flask>=0.9->flask-cors) (1.0.1)\n",
            "Requirement already satisfied: click<8.0,>=5.1 in /usr/local/lib/python3.7/dist-packages (from Flask>=0.9->flask-cors) (7.1.2)\n",
            "Requirement already satisfied: MarkupSafe>=0.23 in /usr/local/lib/python3.7/dist-packages (from Jinja2<3.0,>=2.10.1->Flask>=0.9->flask-cors) (2.0.1)\n",
            "Installing collected packages: flask-cors\n",
            "Successfully installed flask-cors-3.0.10\n",
            "Collecting flask-ngrok\n",
            "  Downloading flask_ngrok-0.0.25-py3-none-any.whl (3.1 kB)\n",
            "Requirement already satisfied: requests in /usr/local/lib/python3.7/dist-packages (from flask-ngrok) (2.23.0)\n",
            "Requirement already satisfied: Flask>=0.8 in /usr/local/lib/python3.7/dist-packages (from flask-ngrok) (1.1.4)\n",
            "Requirement already satisfied: itsdangerous<2.0,>=0.24 in /usr/local/lib/python3.7/dist-packages (from Flask>=0.8->flask-ngrok) (1.1.0)\n",
            "Requirement already satisfied: Werkzeug<2.0,>=0.15 in /usr/local/lib/python3.7/dist-packages (from Flask>=0.8->flask-ngrok) (1.0.1)\n",
            "Requirement already satisfied: click<8.0,>=5.1 in /usr/local/lib/python3.7/dist-packages (from Flask>=0.8->flask-ngrok) (7.1.2)\n",
            "Requirement already satisfied: Jinja2<3.0,>=2.10.1 in /usr/local/lib/python3.7/dist-packages (from Flask>=0.8->flask-ngrok) (2.11.3)\n",
            "Requirement already satisfied: MarkupSafe>=0.23 in /usr/local/lib/python3.7/dist-packages (from Jinja2<3.0,>=2.10.1->Flask>=0.8->flask-ngrok) (2.0.1)\n",
            "Requirement already satisfied: urllib3!=1.25.0,!=1.25.1,<1.26,>=1.21.1 in /usr/local/lib/python3.7/dist-packages (from requests->flask-ngrok) (1.24.3)\n",
            "Requirement already satisfied: idna<3,>=2.5 in /usr/local/lib/python3.7/dist-packages (from requests->flask-ngrok) (2.10)\n",
            "Requirement already satisfied: certifi>=2017.4.17 in /usr/local/lib/python3.7/dist-packages (from requests->flask-ngrok) (2021.10.8)\n",
            "Requirement already satisfied: chardet<4,>=3.0.2 in /usr/local/lib/python3.7/dist-packages (from requests->flask-ngrok) (3.0.4)\n",
            "Installing collected packages: flask-ngrok\n",
            "Successfully installed flask-ngrok-0.0.25\n",
            "Authtoken saved to configuration file: /root/.ngrok2/ngrok.yml\n"
          ]
        }
      ],
      "source": [
        "! pip install pyngrok\n",
        "! pip install transformers\n",
        "! pip install -U flask-cors\n",
        "! pip install flask-ngrok\n",
        "! ngrok authtoken \"\""
      ]
    },
    {
      "cell_type": "code",
      "source": [
        "from flask import Flask,request\n",
        "from flask_ngrok import run_with_ngrok\n",
        "from transformers import AutoModelForQuestionAnswering, AutoTokenizer, pipeline\n",
        "from flask_cors import CORS, cross_origin\n"
      ],
      "metadata": {
        "id": "KqC2pAQqadpj"
      },
      "execution_count": null,
      "outputs": []
    },
    {
      "cell_type": "code",
      "source": [
        "app = Flask(__name__)\n",
        "cors = CORS(app)\n",
        "app.config['CORS_HEADERS'] = 'Content-Type'\n",
        "run_with_ngrok(app)  \n",
        "\n",
        "\n",
        "@app.route('/')\n",
        "def hello_world():\n",
        "  return '<h1>Hello, World!</h1>'\n",
        "\n",
        "@app.route(\"/ask\",methods=['POST', 'GET'])\n",
        "@cross_origin()\n",
        "def ask():\n",
        "  model_name = \"deepset/roberta-base-squad2\"\n",
        "  searchword = request.args.get('q','')\n",
        "  p = \"\"\"Akbar, full Abu al-Fati Jalal al-Din Muhammad Akbar, (born October 15?, 1542, Umarkot [now in Sindh province, Pakistan] – died c. 25 October 1605, Agra, India), the greatest Mughal of India King. He ruled from 1556 to 1605 and extended Mughal power over most of the Indian subcontinent. To maintain the unity of his empire, Akbar adopted programs that won the loyalty of the non-Muslim population of his region. He reformed and strengthened his central administration and centralized his financial system and reorganized tax-collection processes. Although he never renounced Islam, he took an active interest in other religions, persuading Hindus, Zoroastrians and Christians as well as Muslims to join the religious discussion before him. By illiterate himself, he encouraged scholars, poets, painters and musicians, making his court the center of culture.\"\"\"\n",
        "  # a) Get predictions\n",
        "  nlp = pipeline('question-answering', model=model_name, tokenizer=model_name)\n",
        "  QA_input = {\n",
        "      'question': searchword,\n",
        "      'context': p\n",
        "  }\n",
        "  res = nlp(QA_input)\n",
        "  \n",
        "  return res[\"answer\"]\n",
        "\n",
        "  \n",
        "if __name__ == '__main__':\n",
        "    app.run()\n",
        "   "
      ],
      "metadata": {
        "colab": {
          "base_uri": "https://localhost:8080/"
        },
        "id": "qsUNAqryaeAD",
        "outputId": "f58474ff-38ac-44fa-fa0c-a2611a92d520"
      },
      "execution_count": null,
      "outputs": [
        {
          "output_type": "stream",
          "name": "stdout",
          "text": [
            " * Serving Flask app \"__main__\" (lazy loading)\n",
            " * Environment: production\n",
            "\u001b[31m   WARNING: This is a development server. Do not use it in a production deployment.\u001b[0m\n",
            "\u001b[2m   Use a production WSGI server instead.\u001b[0m\n",
            " * Debug mode: off\n"
          ]
        },
        {
          "output_type": "stream",
          "name": "stderr",
          "text": [
            " * Running on http://127.0.0.1:5000/ (Press CTRL+C to quit)\n"
          ]
        },
        {
          "output_type": "stream",
          "name": "stdout",
          "text": [
            " * Running on http://9a11-34-125-49-85.ngrok.io\n",
            " * Traffic stats available on http://127.0.0.1:4040\n"
          ]
        },
        {
          "output_type": "stream",
          "name": "stderr",
          "text": [
            "127.0.0.1 - - [21/Dec/2021 09:56:51] \"\u001b[37mGET / HTTP/1.1\u001b[0m\" 200 -\n",
            "127.0.0.1 - - [21/Dec/2021 09:56:56] \"\u001b[37mGET / HTTP/1.1\u001b[0m\" 200 -\n",
            "127.0.0.1 - - [21/Dec/2021 09:56:57] \"\u001b[33mGET /favicon.ico HTTP/1.1\u001b[0m\" 404 -\n",
            "127.0.0.1 - - [21/Dec/2021 09:57:22] \"\u001b[37mGET /ask?q=who%20is%20he? HTTP/1.1\u001b[0m\" 200 -\n",
            "127.0.0.1 - - [21/Dec/2021 09:57:25] \"\u001b[37mGET /ask?q=who%20is%20he? HTTP/1.1\u001b[0m\" 200 -\n"
          ]
        }
      ]
    }
  ]
}